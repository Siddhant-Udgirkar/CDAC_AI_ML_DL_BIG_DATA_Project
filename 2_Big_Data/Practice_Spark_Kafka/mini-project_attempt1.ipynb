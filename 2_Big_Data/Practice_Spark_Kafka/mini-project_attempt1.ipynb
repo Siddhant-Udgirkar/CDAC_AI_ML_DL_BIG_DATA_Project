{
 "cells": [
  {
   "cell_type": "code",
   "execution_count": 17,
   "id": "8dbf634a-741b-42df-a6f5-ab0291eeb4a6",
   "metadata": {},
   "outputs": [
    {
     "name": "stderr",
     "output_type": "stream",
     "text": [
      "/tmp/ipykernel_109991/4100433970.py:7: DeprecationWarning: Callback API version 1 is deprecated, update to latest version\n",
      "  mqtt_client= mqtt.Client()\n"
     ]
    },
    {
     "data": {
      "text/plain": [
       "<MQTTErrorCode.MQTT_ERR_SUCCESS: 0>"
      ]
     },
     "execution_count": 17,
     "metadata": {},
     "output_type": "execute_result"
    },
    {
     "name": "stdout",
     "output_type": "stream",
     "text": [
      "mqtt connection successful...\n",
      "{'proximitySensor': {'x': '5.0'}, 'temperatureSensor': {'temperature': '26.0'}, 'lightSensor': {'illuminance': '26.0'}, 'gyroscopeSensor': {'x': '0.0', 'y': '0.0', 'z': '0.0'}, 'gpsSensor': {'alt': '619.5', 'lon': '73.71', 'lat': '18.59'}, 'accelerometerSensor': {'x': '-0.4', 'y': '-0.15', 'z': '9.75'}, 'topic': 'iot'}\n",
      ".{'proximitySensor': {'x': '5.0'}, 'temperatureSensor': {'temperature': '33.0'}, 'lightSensor': {'illuminance': '33.0'}, 'gyroscopeSensor': {'x': '0.0', 'y': '0.0', 'z': '0.0'}, 'gpsSensor': {'alt': '619.5', 'lon': '73.71', 'lat': '18.59'}, 'accelerometerSensor': {'x': '-0.39', 'y': '-0.16', 'z': '9.74'}, 'topic': 'iot'}\n",
      ".{'proximitySensor': {'x': '5.0'}, 'temperatureSensor': {'temperature': '26.0'}, 'lightSensor': {'illuminance': '26.0'}, 'gyroscopeSensor': {'x': '0.0', 'y': '0.0', 'z': '0.0'}, 'gpsSensor': {'alt': '619.5', 'lon': '73.71', 'lat': '18.59'}, 'accelerometerSensor': {'x': '-0.4', 'y': '-0.15', 'z': '9.75'}, 'topic': 'iot'}\n",
      ".{'proximitySensor': {'x': '5.0'}, 'temperatureSensor': {'temperature': '26.0'}, 'lightSensor': {'illuminance': '26.0'}, 'gyroscopeSensor': {'x': '0.0', 'y': '0.0', 'z': '0.0'}, 'gpsSensor': {'alt': '619.5', 'lon': '73.71', 'lat': '18.59'}, 'accelerometerSensor': {'x': '-0.35', 'y': '-0.16', 'z': '9.76'}, 'topic': 'iot'}\n",
      ".{'proximitySensor': {'x': '5.0'}, 'temperatureSensor': {'temperature': '26.0'}, 'lightSensor': {'illuminance': '26.0'}, 'gyroscopeSensor': {'x': '0.0', 'y': '0.0', 'z': '0.0'}, 'gpsSensor': {'alt': '619.5', 'lon': '73.71', 'lat': '18.59'}, 'accelerometerSensor': {'x': '-0.37', 'y': '-0.15', 'z': '9.75'}, 'topic': 'iot'}\n",
      ".{'proximitySensor': {'x': '5.0'}, 'temperatureSensor': {'temperature': '26.0'}, 'lightSensor': {'illuminance': '26.0'}, 'gyroscopeSensor': {'x': '0.0', 'y': '0.0', 'z': '0.0'}, 'gpsSensor': {'alt': '619.5', 'lon': '73.71', 'lat': '18.59'}, 'accelerometerSensor': {'x': '-0.38', 'y': '-0.08', 'z': '9.74'}, 'topic': 'iot'}\n",
      ".{'proximitySensor': {'x': '5.0'}, 'temperatureSensor': {'temperature': '34.0'}, 'lightSensor': {'illuminance': '34.0'}, 'gyroscopeSensor': {'x': '0.0', 'y': '0.0', 'z': '0.0'}, 'gpsSensor': {'alt': '619.5', 'lon': '73.71', 'lat': '18.59'}, 'accelerometerSensor': {'x': '-0.39', 'y': '-0.17', 'z': '9.73'}, 'topic': 'iot'}\n",
      ".{'proximitySensor': {'x': '5.0'}, 'temperatureSensor': {'temperature': '34.0'}, 'lightSensor': {'illuminance': '34.0'}, 'gyroscopeSensor': {'x': '0.01', 'y': '-0.03', 'z': '-0.01'}, 'gpsSensor': {'alt': '619.5', 'lon': '73.71', 'lat': '18.59'}, 'accelerometerSensor': {'x': '-0.57', 'y': '-0.04', 'z': '9.7'}, 'topic': 'iot'}\n",
      ".{'proximitySensor': {'x': '5.0'}, 'temperatureSensor': {'temperature': '26.0'}, 'lightSensor': {'illuminance': '26.0'}, 'gyroscopeSensor': {'x': '0.0', 'y': '0.0', 'z': '0.0'}, 'gpsSensor': {'alt': '619.5', 'lon': '73.71', 'lat': '18.59'}, 'accelerometerSensor': {'x': '-0.51', 'y': '-0.31', 'z': '9.74'}, 'topic': 'iot'}\n",
      ".{'proximitySensor': {'x': '5.0'}, 'temperatureSensor': {'temperature': '33.0'}, 'lightSensor': {'illuminance': '33.0'}, 'gyroscopeSensor': {'x': '0.0', 'y': '0.0', 'z': '0.0'}, 'gpsSensor': {'alt': '619.5', 'lon': '73.71', 'lat': '18.59'}, 'accelerometerSensor': {'x': '-0.51', 'y': '-0.3', 'z': '9.75'}, 'topic': 'iot'}\n",
      ".{'proximitySensor': {'x': '5.0'}, 'temperatureSensor': {'temperature': '33.0'}, 'lightSensor': {'illuminance': '33.0'}, 'gyroscopeSensor': {'x': '0.0', 'y': '0.0', 'z': '0.0'}, 'gpsSensor': {'alt': '619.5', 'lon': '73.71', 'lat': '18.59'}, 'accelerometerSensor': {'x': '-0.48', 'y': '-0.32', 'z': '9.76'}, 'topic': 'iot'}\n",
      ".{'proximitySensor': {'x': '5.0'}, 'temperatureSensor': {'temperature': '33.0'}, 'lightSensor': {'illuminance': '33.0'}, 'gyroscopeSensor': {'x': '0.0', 'y': '0.0', 'z': '0.0'}, 'gpsSensor': {'alt': '619.5', 'lon': '73.71', 'lat': '18.59'}, 'accelerometerSensor': {'x': '-0.5', 'y': '-0.32', 'z': '9.75'}, 'topic': 'iot'}\n",
      ".{'proximitySensor': {'x': '5.0'}, 'temperatureSensor': {'temperature': '34.0'}, 'lightSensor': {'illuminance': '34.0'}, 'gyroscopeSensor': {'x': '0.0', 'y': '0.0', 'z': '0.0'}, 'gpsSensor': {'alt': '619.5', 'lon': '73.71', 'lat': '18.59'}, 'accelerometerSensor': {'x': '-0.5', 'y': '-0.33', 'z': '9.76'}, 'topic': 'iot'}\n",
      ".{'proximitySensor': {'x': '5.0'}, 'temperatureSensor': {'temperature': '26.0'}, 'lightSensor': {'illuminance': '26.0'}, 'gyroscopeSensor': {'x': '0.0', 'y': '0.0', 'z': '0.0'}, 'gpsSensor': {'alt': '619.5', 'lon': '73.71', 'lat': '18.59'}, 'accelerometerSensor': {'x': '-0.42', 'y': '-0.27', 'z': '9.74'}, 'topic': 'iot'}\n",
      ".{'proximitySensor': {'x': '5.0'}, 'temperatureSensor': {'temperature': '34.0'}, 'lightSensor': {'illuminance': '34.0'}, 'gyroscopeSensor': {'x': '0.0', 'y': '0.0', 'z': '0.0'}, 'gpsSensor': {'alt': '619.5', 'lon': '73.71', 'lat': '18.59'}, 'accelerometerSensor': {'x': '-0.42', 'y': '-0.29', 'z': '9.75'}, 'topic': 'iot'}\n",
      ".{'proximitySensor': {'x': '5.0'}, 'temperatureSensor': {'temperature': '26.0'}, 'lightSensor': {'illuminance': '26.0'}, 'gyroscopeSensor': {'x': '0.0', 'y': '0.01', 'z': '0.0'}, 'gpsSensor': {'alt': '619.5', 'lon': '73.71', 'lat': '18.59'}, 'accelerometerSensor': {'x': '0.46', 'y': '-0.34', 'z': '9.73'}, 'topic': 'iot'}\n",
      ".{'proximitySensor': {'x': '5.0'}, 'temperatureSensor': {'temperature': '34.0'}, 'lightSensor': {'illuminance': '34.0'}, 'gyroscopeSensor': {'x': '0.0', 'y': '0.0', 'z': '0.0'}, 'gpsSensor': {'alt': '619.5', 'lon': '73.71', 'lat': '18.59'}, 'accelerometerSensor': {'x': '0.44', 'y': '-0.35', 'z': '9.73'}, 'topic': 'iot'}\n",
      ".{'proximitySensor': {'x': '5.0'}, 'temperatureSensor': {'temperature': '33.0'}, 'lightSensor': {'illuminance': '33.0'}, 'gyroscopeSensor': {'x': '0.0', 'y': '0.0', 'z': '0.0'}, 'gpsSensor': {'alt': '619.5', 'lon': '73.71', 'lat': '18.59'}, 'accelerometerSensor': {'x': '0.45', 'y': '-0.36', 'z': '9.72'}, 'topic': 'iot'}\n",
      ".{'proximitySensor': {'x': '5.0'}, 'temperatureSensor': {'temperature': '33.0'}, 'lightSensor': {'illuminance': '33.0'}, 'gyroscopeSensor': {'x': '0.0', 'y': '0.0', 'z': '0.0'}, 'gpsSensor': {'alt': '619.5', 'lon': '73.71', 'lat': '18.59'}, 'accelerometerSensor': {'x': '0.44', 'y': '-0.36', 'z': '9.73'}, 'topic': 'iot'}\n",
      ".{'proximitySensor': {'x': '5.0'}, 'temperatureSensor': {'temperature': '33.0'}, 'lightSensor': {'illuminance': '33.0'}, 'gyroscopeSensor': {'x': '0.0', 'y': '0.0', 'z': '0.0'}, 'gpsSensor': {'alt': '619.5', 'lon': '73.71', 'lat': '18.59'}, 'accelerometerSensor': {'x': '0.45', 'y': '-0.36', 'z': '9.73'}, 'topic': 'iot'}\n",
      ".{'proximitySensor': {'x': '5.0'}, 'temperatureSensor': {'temperature': '34.0'}, 'lightSensor': {'illuminance': '34.0'}, 'gyroscopeSensor': {'x': '0.0', 'y': '0.0', 'z': '0.0'}, 'gpsSensor': {'alt': '619.5', 'lon': '73.71', 'lat': '18.59'}, 'accelerometerSensor': {'x': '0.49', 'y': '-0.36', 'z': '9.72'}, 'topic': 'iot'}\n",
      ".{'proximitySensor': {'x': '5.0'}, 'temperatureSensor': {'temperature': '33.0'}, 'lightSensor': {'illuminance': '34.0'}, 'gyroscopeSensor': {'x': '0.0', 'y': '0.0', 'z': '0.0'}, 'gpsSensor': {'alt': '619.5', 'lon': '73.71', 'lat': '18.59'}, 'accelerometerSensor': {'x': '0.48', 'y': '-0.37', 'z': '9.73'}, 'topic': 'iot'}\n",
      ".{'proximitySensor': {'x': '5.0'}, 'temperatureSensor': {'temperature': '34.0'}, 'lightSensor': {'illuminance': '34.0'}, 'gyroscopeSensor': {'x': '0.0', 'y': '0.0', 'z': '0.0'}, 'gpsSensor': {'alt': '619.5', 'lon': '73.71', 'lat': '18.59'}, 'accelerometerSensor': {'x': '0.48', 'y': '-0.37', 'z': '9.74'}, 'topic': 'iot'}\n",
      ".{'proximitySensor': {'x': '5.0'}, 'temperatureSensor': {'temperature': '34.0'}, 'lightSensor': {'illuminance': '34.0'}, 'gyroscopeSensor': {'x': '0.0', 'y': '0.0', 'z': '0.0'}, 'gpsSensor': {'alt': '619.5', 'lon': '73.71', 'lat': '18.59'}, 'accelerometerSensor': {'x': '0.48', 'y': '-0.37', 'z': '9.75'}, 'topic': 'iot'}\n",
      ".{'proximitySensor': {'x': '5.0'}, 'temperatureSensor': {'temperature': '33.0'}, 'lightSensor': {'illuminance': '33.0'}, 'gyroscopeSensor': {'x': '0.0', 'y': '0.0', 'z': '0.0'}, 'gpsSensor': {'alt': '619.5', 'lon': '73.71', 'lat': '18.59'}, 'accelerometerSensor': {'x': '0.48', 'y': '-0.37', 'z': '9.74'}, 'topic': 'iot'}\n",
      ".{'proximitySensor': {'x': '5.0'}, 'temperatureSensor': {'temperature': '34.0'}, 'lightSensor': {'illuminance': '34.0'}, 'gyroscopeSensor': {'x': '-0.01', 'y': '0.03', 'z': '0.01'}, 'gpsSensor': {'alt': '619.5', 'lon': '73.71', 'lat': '18.59'}, 'accelerometerSensor': {'x': '0.45', 'y': '-0.42', 'z': '9.7'}, 'topic': 'iot'}\n",
      ".{'proximitySensor': {'x': '5.0'}, 'temperatureSensor': {'temperature': '34.0'}, 'lightSensor': {'illuminance': '34.0'}, 'gyroscopeSensor': {'x': '0.0', 'y': '0.0', 'z': '0.0'}, 'gpsSensor': {'alt': '619.5', 'lon': '73.71', 'lat': '18.59'}, 'accelerometerSensor': {'x': '0.39', 'y': '-0.48', 'z': '9.74'}, 'topic': 'iot'}\n",
      ".{'proximitySensor': {'x': '5.0'}, 'temperatureSensor': {'temperature': '46.0'}, 'lightSensor': {'illuminance': '46.0'}, 'gyroscopeSensor': {'x': '0.0', 'y': '0.0', 'z': '0.0'}, 'gpsSensor': {'alt': '619.5', 'lon': '73.71', 'lat': '18.59'}, 'accelerometerSensor': {'x': '0.35', 'y': '-0.47', 'z': '9.75'}, 'topic': 'iot'}\n",
      ".{'proximitySensor': {'x': '5.0'}, 'temperatureSensor': {'temperature': '34.0'}, 'lightSensor': {'illuminance': '34.0'}, 'gyroscopeSensor': {'x': '0.0', 'y': '0.0', 'z': '0.0'}, 'gpsSensor': {'alt': '619.5', 'lon': '73.71', 'lat': '18.59'}, 'accelerometerSensor': {'x': '0.36', 'y': '-0.48', 'z': '9.75'}, 'topic': 'iot'}\n",
      ".{'proximitySensor': {'x': '5.0'}, 'temperatureSensor': {'temperature': '34.0'}, 'lightSensor': {'illuminance': '34.0'}, 'gyroscopeSensor': {'x': '0.0', 'y': '0.0', 'z': '0.0'}, 'gpsSensor': {'alt': '619.5', 'lon': '73.71', 'lat': '18.59'}, 'accelerometerSensor': {'x': '0.36', 'y': '-0.49', 'z': '9.75'}, 'topic': 'iot'}\n",
      ".{'proximitySensor': {'x': '5.0'}, 'temperatureSensor': {'temperature': '34.0'}, 'lightSensor': {'illuminance': '34.0'}, 'gyroscopeSensor': {'x': '0.0', 'y': '0.0', 'z': '0.0'}, 'gpsSensor': {'alt': '619.5', 'lon': '73.71', 'lat': '18.59'}, 'accelerometerSensor': {'x': '0.37', 'y': '-0.48', 'z': '9.74'}, 'topic': 'iot'}\n",
      "."
     ]
    }
   ],
   "source": [
    "import paho.mqtt.client as mqtt\n",
    "import json\n",
    "from datetime import datetime\n",
    "from kafka import KafkaProducer\n",
    "\n",
    "\n",
    "mqtt_client= mqtt.Client()\n",
    "producer = KafkaProducer(bootstrap_servers=[\"localhost:9092\"], value_serializer=lambda x:json.dumps(x).encode(\"utf-8\"))\n",
    "\n",
    "\n",
    "def on_connect(client, userdata, flags, rc):\n",
    "    if(str(rc) == '0'):\n",
    "        print(\"mqtt connection successful...\")\n",
    "        mqtt_client.subscribe(\"iot\")\n",
    "    else:\n",
    "        print(\"mqtt connection failed...\")\n",
    "\n",
    "def on_message(client, userdata, msg):\n",
    "    try:\n",
    "        payload = msg.payload.decode(\"utf-8\")\n",
    "        data = json.loads(payload)\n",
    "        data['topic'] = msg.topic\n",
    "        print(data)\n",
    "        data['time'] = datetime.now().strftime(\"%Y-%m-%d %H:%M:%S\")\n",
    "        print(\".\", end=\"\")\n",
    "        producer.send(topic=\"iot\", value=data)\n",
    "    except Exception as ex:\n",
    "        print(ex)\n",
    "\n",
    "mqtt_client.on_connect = on_connect\n",
    "mqtt_client.on_message = on_message\n",
    "mqtt_client.connect(host=\"broker.hivemq.com\", port=1883)\n",
    "mqtt_client.loop_start()"
   ]
  },
  {
   "cell_type": "code",
   "execution_count": 18,
   "id": "36bbde13-f68c-4e64-b8b6-ffbf407edad6",
   "metadata": {},
   "outputs": [],
   "source": [
    "from pyspark.sql import SparkSession\n",
    "from pyspark.sql.functions import *\n",
    "\n",
    "spark = SparkSession.builder\\\n",
    "            .appName(\"miniproject\")\\\n",
    "            .config(\"spark.sql.shuffle.partitions\", \"4\")\\\n",
    "            .master(\"local[*]\")\\\n",
    "            .getOrCreate()"
   ]
  },
  {
   "cell_type": "code",
   "execution_count": 19,
   "id": "6786bad2-2bf7-4f0a-b863-0911fd423d7f",
   "metadata": {},
   "outputs": [
    {
     "ename": "AnalysisException",
     "evalue": " Failed to find data source: kafka. Please deploy the application as per the deployment section of \"Structured Streaming + Kafka Integration Guide\".        ",
     "output_type": "error",
     "traceback": [
      "\u001b[0;31m---------------------------------------------------------------------------\u001b[0m",
      "\u001b[0;31mAnalysisException\u001b[0m                         Traceback (most recent call last)",
      "Cell \u001b[0;32mIn[19], line 7\u001b[0m\n\u001b[1;32m      1\u001b[0m kafka_pub_topic \u001b[38;5;241m=\u001b[39m \u001b[38;5;124m\"\u001b[39m\u001b[38;5;124miot\u001b[39m\u001b[38;5;124m\"\u001b[39m\n\u001b[1;32m      2\u001b[0m data \u001b[38;5;241m=\u001b[39m \u001b[43mspark\u001b[49m\u001b[38;5;241;43m.\u001b[39;49m\u001b[43mreadStream\u001b[49m\u001b[43m\\\u001b[49m\n\u001b[1;32m      3\u001b[0m \u001b[43m            \u001b[49m\u001b[38;5;241;43m.\u001b[39;49m\u001b[43mformat\u001b[49m\u001b[43m(\u001b[49m\u001b[38;5;124;43m\"\u001b[39;49m\u001b[38;5;124;43mkafka\u001b[39;49m\u001b[38;5;124;43m\"\u001b[39;49m\u001b[43m)\u001b[49m\u001b[43m\\\u001b[49m\n\u001b[1;32m      4\u001b[0m \u001b[43m            \u001b[49m\u001b[38;5;241;43m.\u001b[39;49m\u001b[43moption\u001b[49m\u001b[43m(\u001b[49m\u001b[38;5;124;43m\"\u001b[39;49m\u001b[38;5;124;43mkafka.bootstrap.servers\u001b[39;49m\u001b[38;5;124;43m\"\u001b[39;49m\u001b[43m,\u001b[49m\u001b[43m \u001b[49m\u001b[38;5;124;43m\"\u001b[39;49m\u001b[38;5;124;43mlocalhost:9092\u001b[39;49m\u001b[38;5;124;43m\"\u001b[39;49m\u001b[43m)\u001b[49m\u001b[43m\\\u001b[49m\n\u001b[1;32m      5\u001b[0m \u001b[43m            \u001b[49m\u001b[38;5;241;43m.\u001b[39;49m\u001b[43moption\u001b[49m\u001b[43m(\u001b[49m\u001b[38;5;124;43m\"\u001b[39;49m\u001b[38;5;124;43msubscribe\u001b[39;49m\u001b[38;5;124;43m\"\u001b[39;49m\u001b[43m,\u001b[49m\u001b[43m \u001b[49m\u001b[43mkafka_pub_topic\u001b[49m\u001b[43m)\u001b[49m\u001b[43m\\\u001b[49m\n\u001b[1;32m      6\u001b[0m \u001b[43m            \u001b[49m\u001b[38;5;241;43m.\u001b[39;49m\u001b[43moption\u001b[49m\u001b[43m(\u001b[49m\u001b[38;5;124;43m\"\u001b[39;49m\u001b[38;5;124;43mstartingOffsets\u001b[39;49m\u001b[38;5;124;43m\"\u001b[39;49m\u001b[43m,\u001b[49m\u001b[43m \u001b[49m\u001b[38;5;124;43m\"\u001b[39;49m\u001b[38;5;124;43mlatest\u001b[39;49m\u001b[38;5;124;43m\"\u001b[39;49m\u001b[43m)\u001b[49m\u001b[43m\\\u001b[49m\n\u001b[0;32m----> 7\u001b[0m \u001b[43m            \u001b[49m\u001b[38;5;241;43m.\u001b[39;49m\u001b[43mload\u001b[49m\u001b[43m(\u001b[49m\u001b[43m)\u001b[49m\n\u001b[1;32m      9\u001b[0m data\u001b[38;5;241m.\u001b[39mprintSchema()\n",
      "File \u001b[0;32m~/.local/lib/python3.10/site-packages/pyspark/sql/streaming/readwriter.py:304\u001b[0m, in \u001b[0;36mDataStreamReader.load\u001b[0;34m(self, path, format, schema, **options)\u001b[0m\n\u001b[1;32m    302\u001b[0m     \u001b[38;5;28;01mreturn\u001b[39;00m \u001b[38;5;28mself\u001b[39m\u001b[38;5;241m.\u001b[39m_df(\u001b[38;5;28mself\u001b[39m\u001b[38;5;241m.\u001b[39m_jreader\u001b[38;5;241m.\u001b[39mload(path))\n\u001b[1;32m    303\u001b[0m \u001b[38;5;28;01melse\u001b[39;00m:\n\u001b[0;32m--> 304\u001b[0m     \u001b[38;5;28;01mreturn\u001b[39;00m \u001b[38;5;28mself\u001b[39m\u001b[38;5;241m.\u001b[39m_df(\u001b[38;5;28;43mself\u001b[39;49m\u001b[38;5;241;43m.\u001b[39;49m\u001b[43m_jreader\u001b[49m\u001b[38;5;241;43m.\u001b[39;49m\u001b[43mload\u001b[49m\u001b[43m(\u001b[49m\u001b[43m)\u001b[49m)\n",
      "File \u001b[0;32m~/.local/lib/python3.10/site-packages/py4j/java_gateway.py:1322\u001b[0m, in \u001b[0;36mJavaMember.__call__\u001b[0;34m(self, *args)\u001b[0m\n\u001b[1;32m   1316\u001b[0m command \u001b[38;5;241m=\u001b[39m proto\u001b[38;5;241m.\u001b[39mCALL_COMMAND_NAME \u001b[38;5;241m+\u001b[39m\\\n\u001b[1;32m   1317\u001b[0m     \u001b[38;5;28mself\u001b[39m\u001b[38;5;241m.\u001b[39mcommand_header \u001b[38;5;241m+\u001b[39m\\\n\u001b[1;32m   1318\u001b[0m     args_command \u001b[38;5;241m+\u001b[39m\\\n\u001b[1;32m   1319\u001b[0m     proto\u001b[38;5;241m.\u001b[39mEND_COMMAND_PART\n\u001b[1;32m   1321\u001b[0m answer \u001b[38;5;241m=\u001b[39m \u001b[38;5;28mself\u001b[39m\u001b[38;5;241m.\u001b[39mgateway_client\u001b[38;5;241m.\u001b[39msend_command(command)\n\u001b[0;32m-> 1322\u001b[0m return_value \u001b[38;5;241m=\u001b[39m \u001b[43mget_return_value\u001b[49m\u001b[43m(\u001b[49m\n\u001b[1;32m   1323\u001b[0m \u001b[43m    \u001b[49m\u001b[43manswer\u001b[49m\u001b[43m,\u001b[49m\u001b[43m \u001b[49m\u001b[38;5;28;43mself\u001b[39;49m\u001b[38;5;241;43m.\u001b[39;49m\u001b[43mgateway_client\u001b[49m\u001b[43m,\u001b[49m\u001b[43m \u001b[49m\u001b[38;5;28;43mself\u001b[39;49m\u001b[38;5;241;43m.\u001b[39;49m\u001b[43mtarget_id\u001b[49m\u001b[43m,\u001b[49m\u001b[43m \u001b[49m\u001b[38;5;28;43mself\u001b[39;49m\u001b[38;5;241;43m.\u001b[39;49m\u001b[43mname\u001b[49m\u001b[43m)\u001b[49m\n\u001b[1;32m   1325\u001b[0m \u001b[38;5;28;01mfor\u001b[39;00m temp_arg \u001b[38;5;129;01min\u001b[39;00m temp_args:\n\u001b[1;32m   1326\u001b[0m     \u001b[38;5;28;01mif\u001b[39;00m \u001b[38;5;28mhasattr\u001b[39m(temp_arg, \u001b[38;5;124m\"\u001b[39m\u001b[38;5;124m_detach\u001b[39m\u001b[38;5;124m\"\u001b[39m):\n",
      "File \u001b[0;32m~/.local/lib/python3.10/site-packages/pyspark/errors/exceptions/captured.py:185\u001b[0m, in \u001b[0;36mcapture_sql_exception.<locals>.deco\u001b[0;34m(*a, **kw)\u001b[0m\n\u001b[1;32m    181\u001b[0m converted \u001b[38;5;241m=\u001b[39m convert_exception(e\u001b[38;5;241m.\u001b[39mjava_exception)\n\u001b[1;32m    182\u001b[0m \u001b[38;5;28;01mif\u001b[39;00m \u001b[38;5;129;01mnot\u001b[39;00m \u001b[38;5;28misinstance\u001b[39m(converted, UnknownException):\n\u001b[1;32m    183\u001b[0m     \u001b[38;5;66;03m# Hide where the exception came from that shows a non-Pythonic\u001b[39;00m\n\u001b[1;32m    184\u001b[0m     \u001b[38;5;66;03m# JVM exception message.\u001b[39;00m\n\u001b[0;32m--> 185\u001b[0m     \u001b[38;5;28;01mraise\u001b[39;00m converted \u001b[38;5;28;01mfrom\u001b[39;00m \u001b[38;5;28;01mNone\u001b[39;00m\n\u001b[1;32m    186\u001b[0m \u001b[38;5;28;01melse\u001b[39;00m:\n\u001b[1;32m    187\u001b[0m     \u001b[38;5;28;01mraise\u001b[39;00m\n",
      "\u001b[0;31mAnalysisException\u001b[0m:  Failed to find data source: kafka. Please deploy the application as per the deployment section of \"Structured Streaming + Kafka Integration Guide\".        "
     ]
    }
   ],
   "source": [
    "kafka_pub_topic = \"iot\"\n",
    "data = spark.readStream\\\n",
    "            .format(\"kafka\")\\\n",
    "            .option(\"kafka.bootstrap.servers\", \"localhost:9092\")\\\n",
    "            .option(\"subscribe\", kafka_pub_topic)\\\n",
    "            .option(\"startingOffsets\", \"latest\")\\\n",
    "            .load()\n",
    "\n",
    "data.printSchema()"
   ]
  },
  {
   "cell_type": "code",
   "execution_count": null,
   "id": "6893f3b1-9d58-4221-bc53-9f88fa8229d3",
   "metadata": {},
   "outputs": [],
   "source": []
  },
  {
   "cell_type": "code",
   "execution_count": null,
   "id": "c595c100-e213-46f9-8941-0f3b61f856a0",
   "metadata": {},
   "outputs": [],
   "source": []
  },
  {
   "cell_type": "code",
   "execution_count": null,
   "id": "469f9125-a68e-448c-ad13-5625874afc84",
   "metadata": {},
   "outputs": [],
   "source": []
  },
  {
   "cell_type": "code",
   "execution_count": null,
   "id": "99634eb4-6a91-4c0f-93b7-c98447374699",
   "metadata": {},
   "outputs": [],
   "source": []
  }
 ],
 "metadata": {
  "kernelspec": {
   "display_name": "Python 3 (ipykernel)",
   "language": "python",
   "name": "python3"
  },
  "language_info": {
   "codemirror_mode": {
    "name": "ipython",
    "version": 3
   },
   "file_extension": ".py",
   "mimetype": "text/x-python",
   "name": "python",
   "nbconvert_exporter": "python",
   "pygments_lexer": "ipython3",
   "version": "3.10.12"
  }
 },
 "nbformat": 4,
 "nbformat_minor": 5
}
